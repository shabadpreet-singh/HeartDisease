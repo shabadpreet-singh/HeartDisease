{
 "cells": [
  {
   "cell_type": "markdown",
   "metadata": {
    "editable": true,
    "slideshow": {
     "slide_type": ""
    },
    "tags": []
   },
   "source": [
    "# <center>Data Science Lab Homework 4 </center>\n",
    "##### <center>Group 13 </center>"
   ]
  },
  {
   "cell_type": "markdown",
   "metadata": {
    "editable": true,
    "slideshow": {
     "slide_type": ""
    },
    "tags": []
   },
   "source": [
    "### <b>Question</b>\n",
    "\n",
    "Download Heart Disease data from [https://archive.ics.uci.edu/datasets](https://archive.ics.uci.edu/datasets) and apply depth based classifier, SVM based classifier, K-NN based classifier (choose K with proper justification), Kernel density function based classifier on the aforesaid two data sets and compute empirical miss-classification probability for each classifier."
   ]
  },
  {
   "cell_type": "markdown",
   "metadata": {},
   "source": [
    "### <b>Introduction</b>\n",
    "\n",
    "#### <b>SVM-based Classifier</b>\n",
    "A Support Vector Machine (SVM) algorithm is a non-probabilistic classifier aiming to generate hyperplanes that divide the data points of two classes in the vector space. \n",
    "It is a supervised machine learning algorithm used for classification and regression tasks. It’s particularly effective in high-dimensional spaces and in cases where the number of dimensions is greater than the number of samples.\n",
    "The image below shows how \"support\" vectors are calculated such that the margin (or distance) between the vectors of two classes is the most. SVM optimizes this margin metric to find the best hyperplane for all the categories that's why SVMs are popular for disease prediction since they can effectively categorize tabular data into different categories.\n",
    "\n",
    "<div style=\"text-align:center\">\n",
    "    <img src=\"./SVM_for_Heart_Disease_Prediction.png\" alt=\"SVM Illustration\">\n",
    "</div>\n",
    "\n",
    "#### <b>Depth-based Classifier</b>\n",
    "Depth-based classifiers, such as decision trees and random forests, are powerful machine learning algorithms commonly used for both classification and regression tasks. Decision trees recursively partition the feature space based on individual feature values, providing an interpretable sequence of if-else conditions. However, they can over-fit when the tree grows too deep. In contrast, random forests are ensembles of decision trees trained on random subsets of the data and features, mitigating overfitting by aggregating predictions. Both algorithms find applications in classification and regression tasks, with decision trees being interpretable and random forests offering enhanced generalization capabilities.\n",
    "\n",
    "#### <b>Kernel Density Function-based Classifier</b>\n",
    "Kernel density-based classifiers are non-parametric techniques used for density estimation and classification tasks. In classification, kernel density estimation is used to model the conditional probability distributions of different classes, and the class of a new data point is determined based on which class has the highest density at that point. Kernel density-based classifiers are particularly useful when dealing with data distributions that are not easily modeled by parametric methods and can handle complex, multi-modal data distributions. \n",
    "\n",
    "#### <b>KNN-based Classifier</b>\n",
    "The k-Nearest Neighbors (k-NN) algorithm is a versatile machine learning technique used for classification and regression tasks. It determines the class or predicts the value of a new data point by examining the labels or values of its k nearest neighbors in the feature space, based on a distance metric such as Euclidean distance. While simple to implement and understand, k-NN's computational cost can be high for large datasets, and the choice of the parameter k is crucial for its performance. "
   ]
  },
  {
   "cell_type": "markdown",
   "metadata": {},
   "source": [
    "### <b> Comparing Different Machine Learning Models</b>\n",
    "\n",
    "Comparing different machine learning models involves evaluating their performance using various metrics and then selecting the model that performs the best according to your criteria. We'll be making confusion matrix for all the models and calculate it's accuracy, precision, recall and F1 score.\n",
    "\n",
    "* <b>Accuracy:</b> Accuracy measures the proportion of correct predictions among the total number of predictions. It gives an overall measure of correctness but may not be suitable for imbalanced datasets. It's calculated as: \n",
    "$$Accuracy = \\frac{True\\ Positives + True\\ Negatives}{True\\ Positives + True\\ Negatives + False\\ Positives + False\\ Negatives}$$\n",
    "\n",
    "* <b>Precision:</b> Precision measures the proportion of true positive predictions among the total number of positive predictions. It provide insights into how well the model identifies positive instances and avoids false positives. It's calculated as: \n",
    "$$Precision = \\frac{True\\ Positives}{True\\ Positives + False\\ Positives}$$\n",
    "\n",
    "* <b>Recall(Sensitivity)</b> Recall measures the proportion of true positive predictions among the total number of actual positive instances. It provide insights into how well the model identifies positive instances and avoids false negatives. It's calculated as:\n",
    "$$Recall = \\frac{True\\ Positives}{True\\ Positives + False\\ Negatives}$$\n",
    "\n",
    "* <b>F1 Score:</b> The F1 score is the harmonic mean of precision and recall. It provides a single score that balances both precision and recall. It balances precision and recall and can be useful when you want to consider both false positives and false negatives. \n",
    "It's calculated as:\n",
    "$$F1 \\ Score = 2 \\times \\frac{Precision \\times Recall}{Precision + Recall}$$\n",
    "\n",
    "As in our case we want to minimize chances of a false positives as they can lead to unnecessary anxiety, additional medical tests, treatments, and healthcare costs for patients who do not have the disease. So we are gonna prioritize on increasing precision along with accuracy."
   ]
  },
  {
   "cell_type": "markdown",
   "metadata": {},
   "source": [
    "### <b>Different Machine Learning Approaches on Heart Disease Dataset"
   ]
  },
  {
   "cell_type": "markdown",
   "metadata": {},
   "source": [
    "To test out the how different models perform on this task, we will be using the <b>UCI Heart Disease</b> having 14 features and 303 samples.\n",
    "\n",
    "First we load all the Python's necessary libraries crucial for our machine learning models."
   ]
  },
  {
   "cell_type": "code",
   "execution_count": 1,
   "metadata": {
    "jupyter": {
     "source_hidden": true
    }
   },
   "outputs": [],
   "source": [
    "%%capture\n",
    "import warnings\n",
    "import numpy as np\n",
    "import pandas as pd\n",
    "import seaborn as sns\n",
    "from sklearn import svm\n",
    "import matplotlib.pyplot as plt\n",
    "from ucimlrepo import fetch_ucirepo\n",
    "from sklearn.neighbors import KernelDensity\n",
    "from sklearn.metrics import confusion_matrix\n",
    "from sklearn.preprocessing import LabelEncoder\n",
    "from sklearn.neighbors import KNeighborsClassifier\n",
    "from sklearn.ensemble import RandomForestClassifier\n",
    "from sklearn.metrics import accuracy_score, precision_score\n",
    "from sklearn.model_selection import train_test_split, GridSearchCV\n",
    "\n",
    "warnings.filterwarnings('ignore')"
   ]
  },
  {
   "cell_type": "markdown",
   "metadata": {},
   "source": [
    "Next, we load our dataset"
   ]
  },
  {
   "cell_type": "code",
   "execution_count": 2,
   "metadata": {
    "jupyter": {
     "source_hidden": true
    }
   },
   "outputs": [],
   "source": [
    "# fetch dataset \n",
    "heart_disease = fetch_ucirepo(id=45) \n",
    "  \n",
    "# data (as pandas dataframes) \n",
    "X = heart_disease.data.features \n",
    "y = heart_disease.data.targets"
   ]
  },
  {
   "cell_type": "markdown",
   "metadata": {},
   "source": [
    "Checking for NA values"
   ]
  },
  {
   "cell_type": "code",
   "execution_count": 3,
   "metadata": {
    "editable": true,
    "jupyter": {
     "source_hidden": true
    },
    "slideshow": {
     "slide_type": ""
    },
    "tags": []
   },
   "outputs": [
    {
     "name": "stdout",
     "output_type": "stream",
     "text": [
      "age         0\n",
      "sex         0\n",
      "cp          0\n",
      "trestbps    0\n",
      "chol        0\n",
      "fbs         0\n",
      "restecg     0\n",
      "thalach     0\n",
      "exang       0\n",
      "oldpeak     0\n",
      "slope       0\n",
      "ca          4\n",
      "thal        2\n",
      "dtype: int64\n"
     ]
    }
   ],
   "source": [
    "print(X.isnull().sum())"
   ]
  },
  {
   "cell_type": "markdown",
   "metadata": {},
   "source": [
    "We'll replace all the missing values of both features by mode values. As the number of NA values are pretty less in comparison to total number of samples we can also either drop these samples containing NA values or can use some machine learning algorithm to predict them. "
   ]
  },
  {
   "cell_type": "code",
   "execution_count": 4,
   "metadata": {
    "editable": true,
    "jupyter": {
     "source_hidden": true
    },
    "slideshow": {
     "slide_type": ""
    },
    "tags": []
   },
   "outputs": [],
   "source": [
    "# Replacing NA values\n",
    "\n",
    "# Replace missing values in 'ca' with the mode\n",
    "median_ca = X['ca'].mode()[0]\n",
    "X.fillna({'ca':median_ca}, inplace=True)\n",
    "\n",
    "# Replace missing values in 'thal' with the mode\n",
    "mode_thal = X['thal'].mode()[0]\n",
    "X.fillna({'thal':mode_thal}, inplace=True)"
   ]
  },
  {
   "cell_type": "code",
   "execution_count": 5,
   "metadata": {
    "jupyter": {
     "source_hidden": true
    },
    "tags": [
     "hide_input"
    ]
   },
   "outputs": [
    {
     "data": {
      "text/plain": [
       "age         0\n",
       "sex         0\n",
       "cp          0\n",
       "trestbps    0\n",
       "chol        0\n",
       "fbs         0\n",
       "restecg     0\n",
       "thalach     0\n",
       "exang       0\n",
       "oldpeak     0\n",
       "slope       0\n",
       "ca          0\n",
       "thal        0\n",
       "dtype: int64"
      ]
     },
     "execution_count": 5,
     "metadata": {},
     "output_type": "execute_result"
    }
   ],
   "source": [
    "X.isnull().sum()"
   ]
  },
  {
   "cell_type": "markdown",
   "metadata": {},
   "source": [
    "Now, there are no missing values.Before moving, we must perform exploratory data analysis (EDA) on the dataset we just loaded. Let's take a look at first few samples of our dataset."
   ]
  },
  {
   "cell_type": "code",
   "execution_count": 6,
   "metadata": {
    "jupyter": {
     "source_hidden": true
    },
    "tags": [
     "hide_input"
    ]
   },
   "outputs": [
    {
     "data": {
      "text/html": [
       "<div>\n",
       "<style scoped>\n",
       "    .dataframe tbody tr th:only-of-type {\n",
       "        vertical-align: middle;\n",
       "    }\n",
       "\n",
       "    .dataframe tbody tr th {\n",
       "        vertical-align: top;\n",
       "    }\n",
       "\n",
       "    .dataframe thead th {\n",
       "        text-align: right;\n",
       "    }\n",
       "</style>\n",
       "<table border=\"1\" class=\"dataframe\">\n",
       "  <thead>\n",
       "    <tr style=\"text-align: right;\">\n",
       "      <th></th>\n",
       "      <th>age</th>\n",
       "      <th>sex</th>\n",
       "      <th>cp</th>\n",
       "      <th>trestbps</th>\n",
       "      <th>chol</th>\n",
       "      <th>fbs</th>\n",
       "      <th>restecg</th>\n",
       "      <th>thalach</th>\n",
       "      <th>exang</th>\n",
       "      <th>oldpeak</th>\n",
       "      <th>slope</th>\n",
       "      <th>ca</th>\n",
       "      <th>thal</th>\n",
       "    </tr>\n",
       "  </thead>\n",
       "  <tbody>\n",
       "    <tr>\n",
       "      <th>0</th>\n",
       "      <td>63</td>\n",
       "      <td>1</td>\n",
       "      <td>1</td>\n",
       "      <td>145</td>\n",
       "      <td>233</td>\n",
       "      <td>1</td>\n",
       "      <td>2</td>\n",
       "      <td>150</td>\n",
       "      <td>0</td>\n",
       "      <td>2.3</td>\n",
       "      <td>3</td>\n",
       "      <td>0.0</td>\n",
       "      <td>6.0</td>\n",
       "    </tr>\n",
       "    <tr>\n",
       "      <th>1</th>\n",
       "      <td>67</td>\n",
       "      <td>1</td>\n",
       "      <td>4</td>\n",
       "      <td>160</td>\n",
       "      <td>286</td>\n",
       "      <td>0</td>\n",
       "      <td>2</td>\n",
       "      <td>108</td>\n",
       "      <td>1</td>\n",
       "      <td>1.5</td>\n",
       "      <td>2</td>\n",
       "      <td>3.0</td>\n",
       "      <td>3.0</td>\n",
       "    </tr>\n",
       "    <tr>\n",
       "      <th>2</th>\n",
       "      <td>67</td>\n",
       "      <td>1</td>\n",
       "      <td>4</td>\n",
       "      <td>120</td>\n",
       "      <td>229</td>\n",
       "      <td>0</td>\n",
       "      <td>2</td>\n",
       "      <td>129</td>\n",
       "      <td>1</td>\n",
       "      <td>2.6</td>\n",
       "      <td>2</td>\n",
       "      <td>2.0</td>\n",
       "      <td>7.0</td>\n",
       "    </tr>\n",
       "    <tr>\n",
       "      <th>3</th>\n",
       "      <td>37</td>\n",
       "      <td>1</td>\n",
       "      <td>3</td>\n",
       "      <td>130</td>\n",
       "      <td>250</td>\n",
       "      <td>0</td>\n",
       "      <td>0</td>\n",
       "      <td>187</td>\n",
       "      <td>0</td>\n",
       "      <td>3.5</td>\n",
       "      <td>3</td>\n",
       "      <td>0.0</td>\n",
       "      <td>3.0</td>\n",
       "    </tr>\n",
       "    <tr>\n",
       "      <th>4</th>\n",
       "      <td>41</td>\n",
       "      <td>0</td>\n",
       "      <td>2</td>\n",
       "      <td>130</td>\n",
       "      <td>204</td>\n",
       "      <td>0</td>\n",
       "      <td>2</td>\n",
       "      <td>172</td>\n",
       "      <td>0</td>\n",
       "      <td>1.4</td>\n",
       "      <td>1</td>\n",
       "      <td>0.0</td>\n",
       "      <td>3.0</td>\n",
       "    </tr>\n",
       "  </tbody>\n",
       "</table>\n",
       "</div>"
      ],
      "text/plain": [
       "   age  sex  cp  trestbps  chol  fbs  restecg  thalach  exang  oldpeak  slope  \\\n",
       "0   63    1   1       145   233    1        2      150      0      2.3      3   \n",
       "1   67    1   4       160   286    0        2      108      1      1.5      2   \n",
       "2   67    1   4       120   229    0        2      129      1      2.6      2   \n",
       "3   37    1   3       130   250    0        0      187      0      3.5      3   \n",
       "4   41    0   2       130   204    0        2      172      0      1.4      1   \n",
       "\n",
       "    ca  thal  \n",
       "0  0.0   6.0  \n",
       "1  3.0   3.0  \n",
       "2  2.0   7.0  \n",
       "3  0.0   3.0  \n",
       "4  0.0   3.0  "
      ]
     },
     "execution_count": 6,
     "metadata": {},
     "output_type": "execute_result"
    }
   ],
   "source": [
    "X.head()"
   ]
  },
  {
   "cell_type": "markdown",
   "metadata": {},
   "source": [
    "We see that some of them are categorical variables. The basics of feature engineering and data science tell us that such columns need to be encoded to avoid unintentional bias. For example, as shown below, columns like chest pain (cp), restecg, slope, ca and thal need to be one-hot encoded in addition to others.\n",
    "Moreover, the columns of age, cholesterol (chol), Rest BP (trestbps), thalach, and oldpeak need to be normalized."
   ]
  },
  {
   "cell_type": "code",
   "execution_count": 7,
   "metadata": {
    "jupyter": {
     "source_hidden": true
    },
    "tags": [
     "hide_input"
    ]
   },
   "outputs": [],
   "source": [
    "categorical_columns = ['sex', 'cp', 'fbs', 'restecg', 'exang', 'slope', 'ca', 'thal']\n",
    "numerical_columns = list(set(X.columns) - set(categorical_columns))"
   ]
  },
  {
   "cell_type": "code",
   "execution_count": 8,
   "metadata": {
    "jupyter": {
     "source_hidden": true
    },
    "tags": [
     "hide_input"
    ]
   },
   "outputs": [],
   "source": [
    "def z_score_normalize(x):\n",
    "    mean = np.mean(x, axis=0)\n",
    "    std_dev = np.std(x, axis=0)\n",
    "\n",
    "    x_normal = (x-mean)/std_dev\n",
    "    return x_normal"
   ]
  },
  {
   "cell_type": "code",
   "execution_count": 9,
   "metadata": {
    "jupyter": {
     "source_hidden": true
    },
    "tags": [
     "hide_input"
    ]
   },
   "outputs": [],
   "source": [
    "for col in numerical_columns:\n",
    "    X[col] = z_score_normalize(X[col])\n",
    "\n",
    "for col in categorical_columns:\n",
    "    X[col] = LabelEncoder().fit_transform(X[col])\n",
    "\n",
    "y = pd.Series(np.where(y['num']<1, 0, 1))\n",
    "\n",
    "columns = [1, 3, 5, 6, 7]\n",
    "for i in columns:\n",
    "    temp = pd.get_dummies(X[categorical_columns[i]], prefix=categorical_columns[i]).astype(int)\n",
    "    X = pd.concat([X, temp], axis=1)\n",
    "    X = X.drop(categorical_columns[i], axis=1)\n"
   ]
  },
  {
   "cell_type": "markdown",
   "metadata": {},
   "source": [
    "After applying one hot-encoding and normalization the dataset looks like the below:"
   ]
  },
  {
   "cell_type": "code",
   "execution_count": 10,
   "metadata": {
    "jupyter": {
     "source_hidden": true
    },
    "tags": [
     "hide_input"
    ]
   },
   "outputs": [
    {
     "data": {
      "text/html": [
       "<div>\n",
       "<style scoped>\n",
       "    .dataframe tbody tr th:only-of-type {\n",
       "        vertical-align: middle;\n",
       "    }\n",
       "\n",
       "    .dataframe tbody tr th {\n",
       "        vertical-align: top;\n",
       "    }\n",
       "\n",
       "    .dataframe thead th {\n",
       "        text-align: right;\n",
       "    }\n",
       "</style>\n",
       "<table border=\"1\" class=\"dataframe\">\n",
       "  <thead>\n",
       "    <tr style=\"text-align: right;\">\n",
       "      <th></th>\n",
       "      <th>age</th>\n",
       "      <th>sex</th>\n",
       "      <th>trestbps</th>\n",
       "      <th>chol</th>\n",
       "      <th>fbs</th>\n",
       "      <th>thalach</th>\n",
       "      <th>exang</th>\n",
       "      <th>oldpeak</th>\n",
       "      <th>cp_0</th>\n",
       "      <th>cp_1</th>\n",
       "      <th>...</th>\n",
       "      <th>slope_0</th>\n",
       "      <th>slope_1</th>\n",
       "      <th>slope_2</th>\n",
       "      <th>ca_0</th>\n",
       "      <th>ca_1</th>\n",
       "      <th>ca_2</th>\n",
       "      <th>ca_3</th>\n",
       "      <th>thal_0</th>\n",
       "      <th>thal_1</th>\n",
       "      <th>thal_2</th>\n",
       "    </tr>\n",
       "  </thead>\n",
       "  <tbody>\n",
       "    <tr>\n",
       "      <th>0</th>\n",
       "      <td>0.948726</td>\n",
       "      <td>1</td>\n",
       "      <td>0.757525</td>\n",
       "      <td>-0.264900</td>\n",
       "      <td>1</td>\n",
       "      <td>0.017197</td>\n",
       "      <td>0</td>\n",
       "      <td>1.087338</td>\n",
       "      <td>1</td>\n",
       "      <td>0</td>\n",
       "      <td>...</td>\n",
       "      <td>0</td>\n",
       "      <td>0</td>\n",
       "      <td>1</td>\n",
       "      <td>1</td>\n",
       "      <td>0</td>\n",
       "      <td>0</td>\n",
       "      <td>0</td>\n",
       "      <td>0</td>\n",
       "      <td>1</td>\n",
       "      <td>0</td>\n",
       "    </tr>\n",
       "    <tr>\n",
       "      <th>1</th>\n",
       "      <td>1.392002</td>\n",
       "      <td>1</td>\n",
       "      <td>1.611220</td>\n",
       "      <td>0.760415</td>\n",
       "      <td>0</td>\n",
       "      <td>-1.821905</td>\n",
       "      <td>1</td>\n",
       "      <td>0.397182</td>\n",
       "      <td>0</td>\n",
       "      <td>0</td>\n",
       "      <td>...</td>\n",
       "      <td>0</td>\n",
       "      <td>1</td>\n",
       "      <td>0</td>\n",
       "      <td>0</td>\n",
       "      <td>0</td>\n",
       "      <td>0</td>\n",
       "      <td>1</td>\n",
       "      <td>1</td>\n",
       "      <td>0</td>\n",
       "      <td>0</td>\n",
       "    </tr>\n",
       "    <tr>\n",
       "      <th>2</th>\n",
       "      <td>1.392002</td>\n",
       "      <td>1</td>\n",
       "      <td>-0.665300</td>\n",
       "      <td>-0.342283</td>\n",
       "      <td>0</td>\n",
       "      <td>-0.902354</td>\n",
       "      <td>1</td>\n",
       "      <td>1.346147</td>\n",
       "      <td>0</td>\n",
       "      <td>0</td>\n",
       "      <td>...</td>\n",
       "      <td>0</td>\n",
       "      <td>1</td>\n",
       "      <td>0</td>\n",
       "      <td>0</td>\n",
       "      <td>0</td>\n",
       "      <td>1</td>\n",
       "      <td>0</td>\n",
       "      <td>0</td>\n",
       "      <td>0</td>\n",
       "      <td>1</td>\n",
       "    </tr>\n",
       "    <tr>\n",
       "      <th>3</th>\n",
       "      <td>-1.932564</td>\n",
       "      <td>1</td>\n",
       "      <td>-0.096170</td>\n",
       "      <td>0.063974</td>\n",
       "      <td>0</td>\n",
       "      <td>1.637359</td>\n",
       "      <td>0</td>\n",
       "      <td>2.122573</td>\n",
       "      <td>0</td>\n",
       "      <td>0</td>\n",
       "      <td>...</td>\n",
       "      <td>0</td>\n",
       "      <td>0</td>\n",
       "      <td>1</td>\n",
       "      <td>1</td>\n",
       "      <td>0</td>\n",
       "      <td>0</td>\n",
       "      <td>0</td>\n",
       "      <td>1</td>\n",
       "      <td>0</td>\n",
       "      <td>0</td>\n",
       "    </tr>\n",
       "    <tr>\n",
       "      <th>4</th>\n",
       "      <td>-1.489288</td>\n",
       "      <td>0</td>\n",
       "      <td>-0.096170</td>\n",
       "      <td>-0.825922</td>\n",
       "      <td>0</td>\n",
       "      <td>0.980537</td>\n",
       "      <td>0</td>\n",
       "      <td>0.310912</td>\n",
       "      <td>0</td>\n",
       "      <td>1</td>\n",
       "      <td>...</td>\n",
       "      <td>1</td>\n",
       "      <td>0</td>\n",
       "      <td>0</td>\n",
       "      <td>1</td>\n",
       "      <td>0</td>\n",
       "      <td>0</td>\n",
       "      <td>0</td>\n",
       "      <td>1</td>\n",
       "      <td>0</td>\n",
       "      <td>0</td>\n",
       "    </tr>\n",
       "  </tbody>\n",
       "</table>\n",
       "<p>5 rows × 25 columns</p>\n",
       "</div>"
      ],
      "text/plain": [
       "        age  sex  trestbps      chol  fbs   thalach  exang   oldpeak  cp_0  \\\n",
       "0  0.948726    1  0.757525 -0.264900    1  0.017197      0  1.087338     1   \n",
       "1  1.392002    1  1.611220  0.760415    0 -1.821905      1  0.397182     0   \n",
       "2  1.392002    1 -0.665300 -0.342283    0 -0.902354      1  1.346147     0   \n",
       "3 -1.932564    1 -0.096170  0.063974    0  1.637359      0  2.122573     0   \n",
       "4 -1.489288    0 -0.096170 -0.825922    0  0.980537      0  0.310912     0   \n",
       "\n",
       "   cp_1  ...  slope_0  slope_1  slope_2  ca_0  ca_1  ca_2  ca_3  thal_0  \\\n",
       "0     0  ...        0        0        1     1     0     0     0       0   \n",
       "1     0  ...        0        1        0     0     0     0     1       1   \n",
       "2     0  ...        0        1        0     0     0     1     0       0   \n",
       "3     0  ...        0        0        1     1     0     0     0       1   \n",
       "4     1  ...        1        0        0     1     0     0     0       1   \n",
       "\n",
       "   thal_1  thal_2  \n",
       "0       1       0  \n",
       "1       0       0  \n",
       "2       0       1  \n",
       "3       0       0  \n",
       "4       0       0  \n",
       "\n",
       "[5 rows x 25 columns]"
      ]
     },
     "execution_count": 10,
     "metadata": {},
     "output_type": "execute_result"
    }
   ],
   "source": [
    "X.head()"
   ]
  },
  {
   "cell_type": "markdown",
   "metadata": {},
   "source": [
    "Now we are ready to train our model on this dataset.\n",
    "Next, we use the train_test_split function from sklearn to create a train and a testing subset of the ratio 80 to 20."
   ]
  },
  {
   "cell_type": "code",
   "execution_count": 11,
   "metadata": {
    "jupyter": {
     "source_hidden": true
    }
   },
   "outputs": [],
   "source": [
    "#Splitting dataset into training and testing \n",
    "X_train, X_test, y_train, y_test = train_test_split(X, y, test_size=0.2, random_state=42) #random state is fixed so that train and test data are reproducible"
   ]
  },
  {
   "cell_type": "markdown",
   "metadata": {},
   "source": [
    "#### <b>SVM-based Classifier</b>\n",
    "The svm.SVC function in sklearn has several hyperparameters. We explore the primary ones: choice of kernel, regularization, and degree of the polynomial kernel."
   ]
  },
  {
   "cell_type": "code",
   "execution_count": 12,
   "metadata": {
    "jupyter": {
     "source_hidden": true
    }
   },
   "outputs": [
    {
     "name": "stdout",
     "output_type": "stream",
     "text": [
      "Best choice of c for linear: 1\n",
      "Best Polynomial score: 3\n",
      "Best Polynomial score: 4\n",
      "Best Polynomial score: 3\n",
      "Best Polynomial score: 3\n",
      "Best Polynomial score: 3\n",
      "Best Polynomial score: 3\n",
      "Best Polynomial score: 6\n",
      "Best Polynomial score: 6\n",
      "Best Polynomial score: 6\n",
      "Best Polynomial score: 6\n",
      "Best choice of c for poly: 2\n",
      "Best choice of c for rbf: 2\n",
      "Best choice of c for sigmoid: 2\n",
      "Best choice of k: rbf\n"
     ]
    }
   ],
   "source": [
    "svc_scores = []\n",
    "kernels = ['linear', 'poly', 'rbf', 'sigmoid']\n",
    "\n",
    "for i in range(len(kernels)):\n",
    "    svc_scores_c = []\n",
    "    for ch in range(1,11):\n",
    "        if kernels[i] == 'poly':\n",
    "            svc_scores_poly=[]\n",
    "            for d in range(3, 10):\n",
    "               svc_classifier = svm.SVC(kernel = kernels[i], C=ch, degree=d)\n",
    "               svc_classifier.fit(X_train, y_train)\n",
    "               svc_scores_poly.append(svc_classifier.score(X_test, y_test))\n",
    "            print(f'Best Polynomial score: {np.argmax(svc_scores_poly)+3}')\n",
    "            svc_scores_c.append(svc_scores_poly[np.argmax(svc_scores_poly)])\n",
    "        else:\n",
    "            svc_classifier = svm.SVC(kernel = kernels[i], C=ch)\n",
    "            svc_classifier.fit(X_train, y_train)\n",
    "            svc_scores_c.append(svc_classifier.score(X_test, y_test))\n",
    "    print(f'Best choice of c for {kernels[i]}: {np.argmax(svc_scores_c)+1}')\n",
    "    svc_scores.append(svc_scores_c[np.argmax(svc_scores_c)])\n",
    "print(f'Best choice of k: {kernels[np.argmax(svc_scores)]}')"
   ]
  },
  {
   "cell_type": "code",
   "execution_count": 13,
   "metadata": {
    "jupyter": {
     "source_hidden": true
    }
   },
   "outputs": [
    {
     "name": "stdout",
     "output_type": "stream",
     "text": [
      "test_accuracy =  0.8852459016393442\n",
      "0.9032258064516129\n"
     ]
    }
   ],
   "source": [
    "svm_classifier = svm.SVC(kernel='rbf', C=2)\n",
    "svm_classifier.fit(X_train, y_train)\n",
    "\n",
    "out = svm_classifier.predict(X_test)\n",
    "out2 = svm_classifier.predict(X_train)\n",
    "\n",
    "test_accuracy = accuracy_score(y_test, out)\n",
    "print('test_accuracy = ', test_accuracy)\n",
    "# 0.8852459016393442\n",
    "\n",
    "test_precision = precision_score(y_test, out)\n",
    "print(test_precision)\n",
    "# 0.9032258064516129\n",
    "\n",
    "del(out, out2, test_accuracy)"
   ]
  },
  {
   "cell_type": "markdown",
   "metadata": {},
   "source": [
    "We find that the best kernel choice is 'RBF', with regularization parameter being 2.0.\n",
    "This choice of hyperparameters gives 88.5% accuracy and 90.3% precision on the test set."
   ]
  },
  {
   "cell_type": "markdown",
   "metadata": {},
   "source": [
    "#### <b>Depth-based Classifier</b>\n",
    "For Depth based classifer we are using Random Forest Classifier, and we need to tune the `n_estimators` parameter on tree level"
   ]
  },
  {
   "cell_type": "code",
   "execution_count": 14,
   "metadata": {
    "jupyter": {
     "source_hidden": true
    },
    "tags": [
     "hide_input"
    ]
   },
   "outputs": [
    {
     "data": {
      "image/png": "[encoded data removed]",
      "text/plain": [
       "<Figure size 640x480 with 1 Axes>"
      ]
     },
     "metadata": {},
     "output_type": "display_data"
    },
    {
     "name": "stdout",
     "output_type": "stream",
     "text": [
      "Best choice of n_estimators: 100\n"
     ]
    }
   ],
   "source": [
    "rf_scores = []\n",
    "\n",
    "for param in range(10, 510, 10):\n",
    "    rf = RandomForestClassifier(n_estimators=param, random_state=42)\n",
    "    rf.fit(X_train, y_train)\n",
    "    rf_scores.append(rf.score(X_test, y_test))\n",
    "\n",
    "plt.plot(range(10, 510, 10), rf_scores, label = 'Testing dataset Accuracy')\n",
    "\n",
    "plt.legend() \n",
    "plt.xlabel('n_estimators') \n",
    "plt.ylabel('Accuracy') \n",
    "plt.axvline(x=(np.argmax(rf_scores)+1)*10, color='red', linestyle='--')\n",
    "plt.show()\n",
    "\n",
    "print(f'Best choice of n_estimators: {(np.argmax(rf_scores)+1)*10}')\n"
   ]
  },
  {
   "cell_type": "code",
   "execution_count": 15,
   "metadata": {
    "jupyter": {
     "source_hidden": true
    }
   },
   "outputs": [
    {
     "name": "stdout",
     "output_type": "stream",
     "text": [
      "0.9016393442622951\n",
      "0.9333333333333333\n"
     ]
    }
   ],
   "source": [
    "rf_classifier = RandomForestClassifier(n_estimators=100, random_state=42)\n",
    "rf_classifier.fit(X_train, y_train)\n",
    "print(rf_classifier.score(X_test, y_test))\n",
    "# 0.9016393442622951\n",
    "\n",
    "pred = rf_classifier.predict(X_test)\n",
    "print(precision_score(y_test, pred))\n",
    "# 0.9333333333333333"
   ]
  },
  {
   "cell_type": "markdown",
   "metadata": {},
   "source": [
    "With the choice of 100 estimators, our random forest classifier gives around 90.1% accuracy and 93.3% precision on the test set."
   ]
  },
  {
   "cell_type": "markdown",
   "metadata": {},
   "source": [
    "#### <b>Kernel Density Function-based Classifier</b>\n",
    "For this we making different training dataset based on target class, and name them as `X_train_0` and `X_train_1` for class 0 and 1 respectively."
   ]
  },
  {
   "cell_type": "code",
   "execution_count": 16,
   "metadata": {
    "jupyter": {
     "source_hidden": true
    },
    "tags": [
     "hide_input"
    ]
   },
   "outputs": [],
   "source": [
    "#HIDE\n",
    "class KernelDensityClassifier:\n",
    "    def __init__(self):\n",
    "        self.kde_0 = KernelDensity()\n",
    "        self.kde_1 = KernelDensity()\n",
    "\n",
    "    def train(self, X_0, X_1):\n",
    "        self.kde_0.fit(X_0)\n",
    "        self.kde_1.fit(X_1)\n",
    "\n",
    "    def predict(self, X):\n",
    "        log_likelihood_0 = self.kde_0.score_samples(X)\n",
    "        log_likelihood_1 = self.kde_1.score_samples(X)\n",
    "        return (log_likelihood_1 > log_likelihood_0).astype(int)"
   ]
  },
  {
   "cell_type": "code",
   "execution_count": 17,
   "metadata": {
    "jupyter": {
     "source_hidden": true
    },
    "tags": [
     "hide_input"
    ]
   },
   "outputs": [],
   "source": [
    "#HIDE\n",
    "# making different training datasets based on class\n",
    "class_0 = y_train.index[y_train==0]\n",
    "class_1 = y_train.index[y_train==1]\n",
    "\n",
    "X_train_0 = X.iloc[class_0]\n",
    "X_train_1 = X.iloc[class_1]"
   ]
  },
  {
   "cell_type": "code",
   "execution_count": 18,
   "metadata": {},
   "outputs": [
    {
     "name": "stdout",
     "output_type": "stream",
     "text": [
      "0.8852459016393442\n",
      "0.9032258064516129\n"
     ]
    }
   ],
   "source": [
    "# %%capture\n",
    "kdc = KernelDensityClassifier()\n",
    "kdc.train(X_train_0, X_train_1)\n",
    "\n",
    "pred = kdc.predict(X_test)\n",
    "print(accuracy_score(y_test, pred))\n",
    "# 0.8852459016393442\n",
    "\n",
    "print(precision_score(y_test, pred))\n",
    "# 0.9032258064516129"
   ]
  },
  {
   "cell_type": "markdown",
   "metadata": {},
   "source": [
    "Kernel Density Classifier gives us around 88.5% accuracy and 90.3% precision on test set."
   ]
  },
  {
   "cell_type": "markdown",
   "metadata": {},
   "source": [
    "#### <b>KNN-based Classifier</b>\n",
    "Using the KNeighborsClassifier module from sklearn, we build a KNN model and iteratively tune the hyperparameter `n_neighbors` (number of neighbours to be checked for every data point)."
   ]
  },
  {
   "cell_type": "code",
   "execution_count": 19,
   "metadata": {
    "tags": [
     "hide-input"
    ]
   },
   "outputs": [
    {
     "data": {
      "image/png": "[encoded data removed]",
      "text/plain": [
       "<Figure size 640x480 with 1 Axes>"
      ]
     },
     "metadata": {},
     "output_type": "display_data"
    },
    {
     "name": "stdout",
     "output_type": "stream",
     "text": [
      "Best choice of neighbors is  3\n"
     ]
    }
   ],
   "source": [
    "train_accuracy = np.empty(30) \n",
    "test_accuracy = np.empty(30) \n",
    "  \n",
    "# Selecting optimal value by looping over K values \n",
    "for k in range(1, 31): \n",
    "    knn = KNeighborsClassifier(n_neighbors=k) \n",
    "    knn.fit(X_train, y_train) \n",
    "      \n",
    "    # Compute training and test data accuracy \n",
    "    train_accuracy[k-1] = knn.score(X_train, y_train) \n",
    "    test_accuracy[k-1] = knn.score(X_test, y_test) \n",
    "  \n",
    "# Generate plot \n",
    "plt.plot(range(1, 31), test_accuracy, label = 'Testing dataset Accuracy') \n",
    "plt.plot(range(1, 31), train_accuracy, label = 'Training dataset Accuracy') \n",
    "  \n",
    "plt.legend() \n",
    "plt.xlabel('n_neighbors') \n",
    "plt.ylabel('Accuracy') \n",
    "plt.axvline(x=np.argmax(test_accuracy)+1, color='red', linestyle='--')\n",
    "plt.show()\n",
    "\n",
    "print(\"Best choice of neighbors is \", np.argmax(test_accuracy)+1)"
   ]
  },
  {
   "cell_type": "markdown",
   "metadata": {},
   "source": [
    "We see that the best choice of `n_neighbors` is 3, and the accuracy of this model is around 90.2%"
   ]
  },
  {
   "cell_type": "code",
   "execution_count": 20,
   "metadata": {},
   "outputs": [
    {
     "name": "stdout",
     "output_type": "stream",
     "text": [
      "0.9016393442622951\n",
      "0.9333333333333333\n"
     ]
    }
   ],
   "source": [
    "knn = KNeighborsClassifier(n_neighbors=3) \n",
    "knn.fit(X_train, y_train)\n",
    "\n",
    "print(knn.score(X_test, y_test))\n",
    "# 0.9016393442622951\n",
    "\n",
    "pred = knn.predict(X_test)\n",
    "print(precision_score(y_test, pred))\n",
    "# 0.9333333333333333"
   ]
  },
  {
   "cell_type": "markdown",
   "metadata": {},
   "source": [
    "### <b>Box plots on Accuracy of various model\n",
    "Now we check the accuracy of our final models at different splits of our dataset like 90/10, 80/20, 70/30, 60/40 and 50/50.\n",
    "The we make a box plot out of them."
   ]
  },
  {
   "cell_type": "code",
   "execution_count": 21,
   "metadata": {
    "tags": [
     "hide_input"
    ]
   },
   "outputs": [],
   "source": [
    "#HIDE\n",
    "proportion = [0.1, 0.2, 0.3, 0.4, 0.5]\n",
    "test_acc_svm = []\n",
    "test_acc_rf = []\n",
    "test_acc_kd = []\n",
    "test_acc_knn = []\n",
    "\n",
    "test_precision_svm = []\n",
    "test_precision_rf = []\n",
    "test_precision_kd = []\n",
    "test_precision_knn = []\n",
    "\n",
    "\n",
    "for prop in proportion:\n",
    "    X_train, X_test, y_train, y_test = train_test_split(X, y, test_size=prop, random_state=42)\n",
    "\n",
    "    svm_classifier = svm.SVC(kernel='rbf', C=2)\n",
    "    svm_classifier.fit(X_train, y_train)\n",
    "    pred = svm_classifier.predict(X_test)\n",
    "    test_acc_svm.append(accuracy_score(y_test, pred))\n",
    "    test_precision_svm.append(precision_score(y_test, pred))\n",
    "\n",
    "    rf_classifier = RandomForestClassifier(n_estimators=100, random_state=42)\n",
    "    rf_classifier.fit(X_train, y_train)\n",
    "    pred = rf_classifier.predict(X_test)\n",
    "    test_acc_rf.append(accuracy_score(y_test, pred))\n",
    "    test_precision_rf.append(precision_score(y_test, pred))\n",
    "\n",
    "    X_train_0 = X.iloc[y_train.index[y_train==0]]\n",
    "    X_train_1 = X.iloc[y_train.index[y_train==1]]\n",
    "    kdc = KernelDensityClassifier()\n",
    "    kdc.train(X_train_0, X_train_1)\n",
    "    pred = kdc.predict(X_test)\n",
    "    test_acc_kd.append(accuracy_score(pred, y_test))\n",
    "    test_precision_kd.append(precision_score(y_test, pred))\n",
    "\n",
    "    knn = KNeighborsClassifier(n_neighbors=3)\n",
    "    knn.fit(X_train, y_train)\n",
    "    pred = knn.predict(X_test)\n",
    "    test_acc_knn.append(accuracy_score(pred, y_test))\n",
    "    test_precision_knn.append(precision_score(y_test, pred))"
   ]
  },
  {
   "cell_type": "code",
   "execution_count": 23,
   "metadata": {},
   "outputs": [
    {
     "data": {
      "image/png": "[encoded data removed]",
      "text/plain": [
       "<Figure size 1000x600 with 1 Axes>"
      ]
     },
     "metadata": {},
     "output_type": "display_data"
    }
   ],
   "source": [
    "# Combine data\n",
    "precision_data = [test_precision_svm, test_precision_rf, test_precision_kd, test_precision_knn]\n",
    "\n",
    "# Plot\n",
    "plt.figure(figsize=(10, 6))\n",
    "plt.boxplot(precision_data, vert=False, patch_artist=True, widths=0.5)\n",
    "plt.yticks([1, 2, 3, 4], ['SVM-based Classifier', 'Depth-based Classifier', 'Kernel Density-based Classifier', 'KNN-based Classifier'])\n",
    "plt.xlabel('Precision')\n",
    "plt.title('Comparison of Test Precisions')\n",
    "plt.grid(True, linestyle='--', alpha=0.7)\n",
    "\n",
    "plt.tight_layout()\n",
    "plt.show()"
   ]
  },
  {
   "cell_type": "code",
   "execution_count": 24,
   "metadata": {},
   "outputs": [
    {
     "data": {
      "image/png": "[encoded data removed]",
      "text/plain": [
       "<Figure size 1000x600 with 1 Axes>"
      ]
     },
     "metadata": {},
     "output_type": "display_data"
    }
   ],
   "source": [
    "#HIDE\n",
    "# Combine data\n",
    "data = [test_acc_svm, test_acc_rf, test_acc_kd, test_acc_knn]\n",
    "\n",
    "# Plot\n",
    "plt.figure(figsize=(10, 6))\n",
    "plt.boxplot(data, vert=False, patch_artist=True, widths=0.5)\n",
    "plt.yticks([1, 2, 3, 4], ['SVM-based Classifier', 'Depth-based Classifier', 'Kernel Density-based Classifier', 'KNN-based Classifier'])\n",
    "plt.xlabel('Accuracy')\n",
    "plt.title('Comparison of Test Accuracies')\n",
    "plt.grid(True, linestyle='--', alpha=0.7)\n",
    "plt.tight_layout()\n",
    "plt.show()"
   ]
  },
  {
   "cell_type": "markdown",
   "metadata": {},
   "source": [
    "After trying four different machine learning techniques to predict heart disease, it is clear that Depth\n",
    "<b>Based(Random Forest) Classifier</b> perform the best on average on our UCI dataset. However, feature\n",
    "engineering and hyperparameter tuning in other models can also yield comparable results."
   ]
  }
 ],
 "metadata": {
  "kernelspec": {
   "display_name": "Python 3 (ipykernel)",
   "language": "python",
   "name": "python3"
  },
  "language_info": {
   "codemirror_mode": {
    "name": "ipython",
    "version": 3
   },
   "file_extension": ".py",
   "mimetype": "text/x-python",
   "name": "python",
   "nbconvert_exporter": "python",
   "pygments_lexer": "ipython3",
   "version": "3.10.12"
  }
 },
 "nbformat": 4,
 "nbformat_minor": 4
}
